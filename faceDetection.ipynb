{
 "cells": [
  {
   "cell_type": "markdown",
   "metadata": {},
   "source": [
    "### Face Detection and Tracking"
   ]
  },
  {
   "cell_type": "code",
   "execution_count": 1,
   "metadata": {},
   "outputs": [],
   "source": [
    "# Importing needed packages\n",
    "import cv2\n",
    "import matplotlib.pyplot as plt\n",
    "import numpy as np\n",
    "import os\n",
    "import time"
   ]
  },
  {
   "cell_type": "code",
   "execution_count": 2,
   "metadata": {},
   "outputs": [
    {
     "name": "stdout",
     "output_type": "stream",
     "text": [
      "haarcascade_upperbody.xml\n",
      "haarcascade_frontalcatface_extended.xml\n",
      "haarcascade_profileface.xml\n",
      "haarcascade_frontalcatface.xml\n",
      "haarcascade_frontalface_alt2.xml\n",
      "haarcascade_eye.xml\n",
      "__init__.py\n",
      "haarcascade_lefteye_2splits.xml\n",
      "__pycache__\n",
      "haarcascade_frontalface_alt_tree.xml\n",
      "haarcascade_righteye_2splits.xml\n",
      "haarcascade_frontalface_alt.xml\n",
      "haarcascade_lowerbody.xml\n",
      "haarcascade_russian_plate_number.xml\n",
      "haarcascade_frontalface_default.xml\n",
      "haarcascade_smile.xml\n",
      "haarcascade_license_plate_rus_16stages.xml\n",
      "haarcascade_fullbody.xml\n",
      "haarcascade_eye_tree_eyeglasses.xml\n"
     ]
    }
   ],
   "source": [
    "# Getting name of haar cascade files\n",
    "files = os.listdir(cv2.data.haarcascades)\n",
    "\n",
    "for file in files:\n",
    "    print(file)"
   ]
  },
  {
   "cell_type": "code",
   "execution_count": 3,
   "metadata": {},
   "outputs": [],
   "source": [
    "# Creating our face detector\n",
    "faceDetector = cv2.CascadeClassifier(cv2.data.haarcascades + \"haarcascade_frontalface_default.xml\")"
   ]
  },
  {
   "cell_type": "code",
   "execution_count": 4,
   "metadata": {},
   "outputs": [],
   "source": [
    "# Function to detect faces\n",
    "def detectFace(img, blur=False, draw=True):\n",
    "    detections = img.copy()\n",
    "    faces = faceDetector.detectMultiScale(detections, scaleFactor = 1.1, minNeighbors = 7, minSize=(240,240), maxSize=(700,700)) \n",
    "\n",
    "    # Drawing rectangle\n",
    "    if draw:\n",
    "        for (x,y,w,h) in faces:\n",
    "            cv2.rectangle(detections, (x,y), (x+w, y+h), (255,0,255), 6) # purple rectangle for haar face detection mode\n",
    "            cv2.putText(detections, \"Facial Detection Using HAAR\" + (\" (Blurred)\" if blur else \"\"), (10,30), cv2.FONT_HERSHEY_SIMPLEX, 1, (255,0,255), 3)\n",
    "            if blur:\n",
    "                detections[y:y+h, x:x+w] = cv2.GaussianBlur(detections[y:y+h, x:x+w], (41, 41), 0)\n",
    "    return detections, faces \n"
   ]
  },
  {
   "cell_type": "code",
   "execution_count": 5,
   "metadata": {},
   "outputs": [],
   "source": [
    "# Function to track faces\n",
    "def trackFace(img, tracker, blur=False):\n",
    "    ok, bbox = tracker.update(img)\n",
    "    if ok:\n",
    "        (x,y,w,h) = [int(v) for v in bbox]\n",
    "        cv2.rectangle(img, (x,y), (x+w, y+h), (0,255,0), 6) # green rectangle for csrt mode\n",
    "        cv2.putText(img, \"Facial Tracking Using CSRT\" + (\" (Blurred)\" if blur else \"\"), (10,30), cv2.FONT_HERSHEY_SIMPLEX, 1, (0,255,0), 3)\n",
    "        if blur:\n",
    "            img[y:y+h, x:x+w] = cv2.GaussianBlur(img[y:y+h, x:x+w], (41, 41), 0)\n",
    "    return img, ok"
   ]
  },
  {
   "cell_type": "markdown",
   "metadata": {},
   "source": [
    "### Connecting to the webcam"
   ]
  },
  {
   "cell_type": "code",
   "execution_count": 6,
   "metadata": {},
   "outputs": [
    {
     "name": "stderr",
     "output_type": "stream",
     "text": [
      "2024-10-31 01:14:39.267 Python[43638:4528148] WARNING: AVCaptureDeviceTypeExternal is deprecated for Continuity Cameras. Please use AVCaptureDeviceTypeContinuityCamera and add NSCameraUseContinuityCameraDeviceType to your Info.plist.\n",
      "2024-10-31 01:14:40.986 Python[43638:4528148] +[IMKClient subclass]: chose IMKClient_Legacy\n",
      "2024-10-31 01:14:40.986 Python[43638:4528148] +[IMKInputSession subclass]: chose IMKInputSession_Legacy\n"
     ]
    }
   ],
   "source": [
    "capture = cv2.VideoCapture(0) # 0 is the code for hardware camera\n",
    "\n",
    "# flag for grayscale\n",
    "gs_mode = False\n",
    "blur_mode = False\n",
    "edge_mode = False\n",
    "csrt_mode = False\n",
    "\n",
    "# tracker for csrt mode\n",
    "tracker = None\n",
    "\n",
    "# Endless loop (use break to escape)\n",
    "while True:\n",
    "    ret, frame = capture.read()\n",
    "\n",
    "    time.sleep(1/60) # 60 fps (adjust as needed)\n",
    "\n",
    "    # Store which key was pressed (using several if statements with waitkey caused issues)\n",
    "    key = cv2.waitKey(1) & 0xFF\n",
    "\n",
    "    # Toggle grayscale mode\n",
    "    if key == ord('g'):\n",
    "        gs_mode = not gs_mode # simple trick to toggle booleans\n",
    "    \n",
    "    # Toggle edge mode\n",
    "    if key == ord('e'):\n",
    "        edge_mode = not edge_mode # simple trick to toggle booleans\n",
    "    \n",
    "    # Toggle blur mode\n",
    "    if key == ord('b'):\n",
    "        blur_mode = not blur_mode # simple trick to toggle booleans\n",
    "\n",
    "    # Toggle csrt mode\n",
    "    if key == ord('c'):\n",
    "        csrt_mode = not csrt_mode\n",
    "        # enable/init tracker\n",
    "        if csrt_mode:\n",
    "            _, faces = detectFace(frame, blur=blur_mode, draw=False)\n",
    "            (x,y,w,h) = faces[0]\n",
    "            tracker = cv2.TrackerCSRT_create()\n",
    "            tracker.init(frame, (x,y,w,h))\n",
    "\n",
    "    # Using canny for edge mode\n",
    "    if edge_mode:\n",
    "        frame = cv2.Canny(frame, 30, 150)\n",
    "        cv2.putText(frame, \"Edge Detection Using Canny\", (10,30), cv2.FONT_HERSHEY_SIMPLEX, 1, (255,0,255), 3)\n",
    "            \n",
    "    if csrt_mode and tracker is not None:\n",
    "        frame, tracking_ok = trackFace(frame, tracker, blur=blur_mode)\n",
    "        if not tracking_ok:\n",
    "            csrt_mode = False # turn if it fails just in case\n",
    "            tracker = None # disable tracker as well\n",
    "\n",
    "    # update frame value for grayscale mode\n",
    "    if gs_mode:\n",
    "        \n",
    "        # convert frame to grayscale\n",
    "        frame, _ = detectFace(frame, blur=blur_mode, draw=(csrt_mode == False))\n",
    "        frame = cv2.cvtColor(frame, cv2.COLOR_BGR2GRAY)\n",
    "        \n",
    "        \n",
    "        # Using cv2.cvtColor() is generally more efficient\n",
    "        # frame = frame[:,:,1]    \n",
    "    elif not csrt_mode:\n",
    "        frame, _ = detectFace(frame, blur=blur_mode, draw=True) # dont need seperate if for blur mode\n",
    "        \n",
    "\n",
    "    cv2.imshow('Face Detection', frame)\n",
    "\n",
    "    if key == ord('q'):\n",
    "        break\n",
    "\n",
    "capture.release()\n",
    "cv2.destroyAllWindows() # sometimes has issues on mac, let me know if causes issue on windows\n",
    "cv2.destroyWindow('Face Detection')"
   ]
  }
 ],
 "metadata": {
  "kernelspec": {
   "display_name": "Python 3",
   "language": "python",
   "name": "python3"
  },
  "language_info": {
   "codemirror_mode": {
    "name": "ipython",
    "version": 3
   },
   "file_extension": ".py",
   "mimetype": "text/x-python",
   "name": "python",
   "nbconvert_exporter": "python",
   "pygments_lexer": "ipython3",
   "version": "3.12.3"
  }
 },
 "nbformat": 4,
 "nbformat_minor": 2
}
