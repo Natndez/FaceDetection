{
 "cells": [
  {
   "cell_type": "markdown",
   "metadata": {},
   "source": [
    "### Face Detection and Tracking"
   ]
  },
  {
   "cell_type": "code",
   "execution_count": 4,
   "metadata": {},
   "outputs": [],
   "source": [
    "# Importing needed packages\n",
    "import cv2\n",
    "import matplotlib.pyplot as plt\n",
    "import numpy as np\n",
    "import os"
   ]
  },
  {
   "cell_type": "code",
   "execution_count": 6,
   "metadata": {},
   "outputs": [
    {
     "name": "stdout",
     "output_type": "stream",
     "text": [
      "haarcascade_upperbody.xml\n",
      "haarcascade_frontalcatface_extended.xml\n",
      "haarcascade_profileface.xml\n",
      "haarcascade_frontalcatface.xml\n",
      "haarcascade_frontalface_alt2.xml\n",
      "haarcascade_eye.xml\n",
      "__init__.py\n",
      "haarcascade_lefteye_2splits.xml\n",
      "__pycache__\n",
      "haarcascade_frontalface_alt_tree.xml\n",
      "haarcascade_righteye_2splits.xml\n",
      "haarcascade_frontalface_alt.xml\n",
      "haarcascade_lowerbody.xml\n",
      "haarcascade_russian_plate_number.xml\n",
      "haarcascade_frontalface_default.xml\n",
      "haarcascade_smile.xml\n",
      "haarcascade_license_plate_rus_16stages.xml\n",
      "haarcascade_fullbody.xml\n",
      "haarcascade_eye_tree_eyeglasses.xml\n"
     ]
    }
   ],
   "source": [
    "# Getting name of haar cascade files\n",
    "files = os.listdir(cv2.data.haarcascades)\n",
    "\n",
    "for file in files:\n",
    "    print(file)"
   ]
  },
  {
   "cell_type": "code",
   "execution_count": null,
   "metadata": {},
   "outputs": [],
   "source": []
  }
 ],
 "metadata": {
  "kernelspec": {
   "display_name": "Python 3",
   "language": "python",
   "name": "python3"
  },
  "language_info": {
   "codemirror_mode": {
    "name": "ipython",
    "version": 3
   },
   "file_extension": ".py",
   "mimetype": "text/x-python",
   "name": "python",
   "nbconvert_exporter": "python",
   "pygments_lexer": "ipython3",
   "version": "3.12.3"
  }
 },
 "nbformat": 4,
 "nbformat_minor": 2
}
